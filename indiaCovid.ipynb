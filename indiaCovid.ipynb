{
 "cells": [
  {
   "cell_type": "code",
   "execution_count": 578,
   "metadata": {},
   "outputs": [
    {
     "name": "stdout",
     "output_type": "stream",
     "text": [
      "hello\n"
     ]
    }
   ],
   "source": [
    "print(\"hello\")"
   ]
  },
  {
   "cell_type": "code",
   "execution_count": 579,
   "metadata": {},
   "outputs": [],
   "source": [
    "import pandas as pd"
   ]
  },
  {
   "cell_type": "code",
   "execution_count": 580,
   "metadata": {},
   "outputs": [],
   "source": [
    "updatedData = pd.read_csv('India covid 19 datasheet.csv')"
   ]
  },
  {
   "cell_type": "code",
   "execution_count": 581,
   "metadata": {},
   "outputs": [
    {
     "data": {
      "text/html": [
       "<div>\n",
       "<style scoped>\n",
       "    .dataframe tbody tr th:only-of-type {\n",
       "        vertical-align: middle;\n",
       "    }\n",
       "\n",
       "    .dataframe tbody tr th {\n",
       "        vertical-align: top;\n",
       "    }\n",
       "\n",
       "    .dataframe thead th {\n",
       "        text-align: right;\n",
       "    }\n",
       "</style>\n",
       "<table border=\"1\" class=\"dataframe\">\n",
       "  <thead>\n",
       "    <tr style=\"text-align: right;\">\n",
       "      <th></th>\n",
       "      <th>DATE</th>\n",
       "      <th>TOTAL CASES</th>\n",
       "      <th>TOTAL DEATHS</th>\n",
       "    </tr>\n",
       "  </thead>\n",
       "  <tbody>\n",
       "    <tr>\n",
       "      <th>0</th>\n",
       "      <td>02-02-20</td>\n",
       "      <td>2</td>\n",
       "      <td>0</td>\n",
       "    </tr>\n",
       "    <tr>\n",
       "      <th>1</th>\n",
       "      <td>03-02-20</td>\n",
       "      <td>3</td>\n",
       "      <td>0</td>\n",
       "    </tr>\n",
       "    <tr>\n",
       "      <th>2</th>\n",
       "      <td>02-03-20</td>\n",
       "      <td>5</td>\n",
       "      <td>0</td>\n",
       "    </tr>\n",
       "    <tr>\n",
       "      <th>3</th>\n",
       "      <td>03-03-20</td>\n",
       "      <td>6</td>\n",
       "      <td>0</td>\n",
       "    </tr>\n",
       "    <tr>\n",
       "      <th>4</th>\n",
       "      <td>04-03-20</td>\n",
       "      <td>28</td>\n",
       "      <td>0</td>\n",
       "    </tr>\n",
       "  </tbody>\n",
       "</table>\n",
       "</div>"
      ],
      "text/plain": [
       "       DATE  TOTAL CASES  TOTAL DEATHS\n",
       "0  02-02-20            2             0\n",
       "1  03-02-20            3             0\n",
       "2  02-03-20            5             0\n",
       "3  03-03-20            6             0\n",
       "4  04-03-20           28             0"
      ]
     },
     "execution_count": 581,
     "metadata": {},
     "output_type": "execute_result"
    }
   ],
   "source": [
    "updatedData.head()"
   ]
  },
  {
   "cell_type": "code",
   "execution_count": 582,
   "metadata": {},
   "outputs": [
    {
     "data": {
      "text/html": [
       "<div>\n",
       "<style scoped>\n",
       "    .dataframe tbody tr th:only-of-type {\n",
       "        vertical-align: middle;\n",
       "    }\n",
       "\n",
       "    .dataframe tbody tr th {\n",
       "        vertical-align: top;\n",
       "    }\n",
       "\n",
       "    .dataframe thead th {\n",
       "        text-align: right;\n",
       "    }\n",
       "</style>\n",
       "<table border=\"1\" class=\"dataframe\">\n",
       "  <thead>\n",
       "    <tr style=\"text-align: right;\">\n",
       "      <th></th>\n",
       "      <th>Date</th>\n",
       "      <th>Total_cases</th>\n",
       "      <th>Total_deaths</th>\n",
       "    </tr>\n",
       "  </thead>\n",
       "  <tbody>\n",
       "    <tr>\n",
       "      <th>0</th>\n",
       "      <td>02-02-20</td>\n",
       "      <td>2</td>\n",
       "      <td>0</td>\n",
       "    </tr>\n",
       "    <tr>\n",
       "      <th>1</th>\n",
       "      <td>03-02-20</td>\n",
       "      <td>3</td>\n",
       "      <td>0</td>\n",
       "    </tr>\n",
       "    <tr>\n",
       "      <th>2</th>\n",
       "      <td>02-03-20</td>\n",
       "      <td>5</td>\n",
       "      <td>0</td>\n",
       "    </tr>\n",
       "    <tr>\n",
       "      <th>3</th>\n",
       "      <td>03-03-20</td>\n",
       "      <td>6</td>\n",
       "      <td>0</td>\n",
       "    </tr>\n",
       "    <tr>\n",
       "      <th>4</th>\n",
       "      <td>04-03-20</td>\n",
       "      <td>28</td>\n",
       "      <td>0</td>\n",
       "    </tr>\n",
       "  </tbody>\n",
       "</table>\n",
       "</div>"
      ],
      "text/plain": [
       "       Date  Total_cases  Total_deaths\n",
       "0  02-02-20            2             0\n",
       "1  03-02-20            3             0\n",
       "2  02-03-20            5             0\n",
       "3  03-03-20            6             0\n",
       "4  04-03-20           28             0"
      ]
     },
     "execution_count": 582,
     "metadata": {},
     "output_type": "execute_result"
    }
   ],
   "source": [
    "data = updatedData.rename(columns={\"DATE\": \"Date\", \"TOTAL CASES\": \"Total_cases\",\"TOTAL DEATHS\" : \"Total_deaths\"})\n",
    "data.head()"
   ]
  },
  {
   "cell_type": "code",
   "execution_count": 583,
   "metadata": {},
   "outputs": [
    {
     "data": {
      "text/html": [
       "<div>\n",
       "<style scoped>\n",
       "    .dataframe tbody tr th:only-of-type {\n",
       "        vertical-align: middle;\n",
       "    }\n",
       "\n",
       "    .dataframe tbody tr th {\n",
       "        vertical-align: top;\n",
       "    }\n",
       "\n",
       "    .dataframe thead th {\n",
       "        text-align: right;\n",
       "    }\n",
       "</style>\n",
       "<table border=\"1\" class=\"dataframe\">\n",
       "  <thead>\n",
       "    <tr style=\"text-align: right;\">\n",
       "      <th></th>\n",
       "      <th>Total_cases</th>\n",
       "      <th>Total_deaths</th>\n",
       "    </tr>\n",
       "  </thead>\n",
       "  <tbody>\n",
       "    <tr>\n",
       "      <th>count</th>\n",
       "      <td>122.000000</td>\n",
       "      <td>122.000000</td>\n",
       "    </tr>\n",
       "    <tr>\n",
       "      <th>mean</th>\n",
       "      <td>109557.778689</td>\n",
       "      <td>3329.401639</td>\n",
       "    </tr>\n",
       "    <tr>\n",
       "      <th>std</th>\n",
       "      <td>147791.225917</td>\n",
       "      <td>4544.131332</td>\n",
       "    </tr>\n",
       "    <tr>\n",
       "      <th>min</th>\n",
       "      <td>2.000000</td>\n",
       "      <td>0.000000</td>\n",
       "    </tr>\n",
       "    <tr>\n",
       "      <th>25%</th>\n",
       "      <td>1287.500000</td>\n",
       "      <td>32.750000</td>\n",
       "    </tr>\n",
       "    <tr>\n",
       "      <th>50%</th>\n",
       "      <td>32698.500000</td>\n",
       "      <td>1041.500000</td>\n",
       "    </tr>\n",
       "    <tr>\n",
       "      <th>75%</th>\n",
       "      <td>171772.000000</td>\n",
       "      <td>4904.750000</td>\n",
       "    </tr>\n",
       "    <tr>\n",
       "      <th>max</th>\n",
       "      <td>548318.000000</td>\n",
       "      <td>16475.000000</td>\n",
       "    </tr>\n",
       "  </tbody>\n",
       "</table>\n",
       "</div>"
      ],
      "text/plain": [
       "         Total_cases  Total_deaths\n",
       "count     122.000000    122.000000\n",
       "mean   109557.778689   3329.401639\n",
       "std    147791.225917   4544.131332\n",
       "min         2.000000      0.000000\n",
       "25%      1287.500000     32.750000\n",
       "50%     32698.500000   1041.500000\n",
       "75%    171772.000000   4904.750000\n",
       "max    548318.000000  16475.000000"
      ]
     },
     "execution_count": 583,
     "metadata": {},
     "output_type": "execute_result"
    }
   ],
   "source": [
    "data.describe()"
   ]
  },
  {
   "cell_type": "code",
   "execution_count": 584,
   "metadata": {},
   "outputs": [
    {
     "data": {
      "image/png": "[encoded data removed]",
      "text/plain": [
       "<Figure size 432x288 with 1 Axes>"
      ]
     },
     "metadata": {
      "needs_background": "light"
     },
     "output_type": "display_data"
    }
   ],
   "source": [
    "import numpy as np\n",
    "import matplotlib.pyplot as plt\n",
    "\n",
    "# Plot\n",
    "plt.scatter(data.Date.index, data.Total_cases)\n",
    "plt.title('COVID DATA')\n",
    "plt.xlabel(\"DAYS PASSED\")\n",
    "plt.ylabel('CASES')\n",
    "plt.show()"
   ]
  },
  {
   "cell_type": "code",
   "execution_count": 585,
   "metadata": {},
   "outputs": [],
   "source": [
    "#adding a column to the DataFrame which can be used to predict the total cases after x days \n",
    "a = []\n",
    "for i in range(1,123):\n",
    "  a.append(i)\n",
    "\n",
    "data['Days_passed'] = a"
   ]
  },
  {
   "cell_type": "code",
   "execution_count": 586,
   "metadata": {},
   "outputs": [],
   "source": [
    "df2 = pd.DataFrame({\"Date\":[\"30-06-20\",\"01-07-20\",\"02-07-20\",\"03-07-20\",\"04-07-20\",\"05-07-20\"],\n",
    "                    \"Total_cases\":[566840,585493,604641,625544,648315,673165], \n",
    "                    \"Total_deaths\":[16893,17400,17834,18213,18655,19268],\n",
    "                     \"Days_passed\" :[123,124,125,126,127,128]})"
   ]
  },
  {
   "cell_type": "code",
   "execution_count": 587,
   "metadata": {},
   "outputs": [],
   "source": [
    "data=data.append(df2, ignore_index = True)"
   ]
  },
  {
   "cell_type": "code",
   "execution_count": 588,
   "metadata": {},
   "outputs": [
    {
     "data": {
      "text/html": [
       "<div>\n",
       "<style scoped>\n",
       "    .dataframe tbody tr th:only-of-type {\n",
       "        vertical-align: middle;\n",
       "    }\n",
       "\n",
       "    .dataframe tbody tr th {\n",
       "        vertical-align: top;\n",
       "    }\n",
       "\n",
       "    .dataframe thead th {\n",
       "        text-align: right;\n",
       "    }\n",
       "</style>\n",
       "<table border=\"1\" class=\"dataframe\">\n",
       "  <thead>\n",
       "    <tr style=\"text-align: right;\">\n",
       "      <th></th>\n",
       "      <th>Date</th>\n",
       "      <th>Total_cases</th>\n",
       "      <th>Total_deaths</th>\n",
       "      <th>Days_passed</th>\n",
       "    </tr>\n",
       "  </thead>\n",
       "  <tbody>\n",
       "    <tr>\n",
       "      <th>0</th>\n",
       "      <td>02-02-20</td>\n",
       "      <td>2</td>\n",
       "      <td>0</td>\n",
       "      <td>1</td>\n",
       "    </tr>\n",
       "    <tr>\n",
       "      <th>1</th>\n",
       "      <td>03-02-20</td>\n",
       "      <td>3</td>\n",
       "      <td>0</td>\n",
       "      <td>2</td>\n",
       "    </tr>\n",
       "    <tr>\n",
       "      <th>2</th>\n",
       "      <td>02-03-20</td>\n",
       "      <td>5</td>\n",
       "      <td>0</td>\n",
       "      <td>3</td>\n",
       "    </tr>\n",
       "    <tr>\n",
       "      <th>3</th>\n",
       "      <td>03-03-20</td>\n",
       "      <td>6</td>\n",
       "      <td>0</td>\n",
       "      <td>4</td>\n",
       "    </tr>\n",
       "    <tr>\n",
       "      <th>4</th>\n",
       "      <td>04-03-20</td>\n",
       "      <td>28</td>\n",
       "      <td>0</td>\n",
       "      <td>5</td>\n",
       "    </tr>\n",
       "    <tr>\n",
       "      <th>5</th>\n",
       "      <td>05-03-20</td>\n",
       "      <td>30</td>\n",
       "      <td>0</td>\n",
       "      <td>6</td>\n",
       "    </tr>\n",
       "    <tr>\n",
       "      <th>6</th>\n",
       "      <td>06-03-20</td>\n",
       "      <td>31</td>\n",
       "      <td>0</td>\n",
       "      <td>7</td>\n",
       "    </tr>\n",
       "    <tr>\n",
       "      <th>7</th>\n",
       "      <td>07-03-20</td>\n",
       "      <td>34</td>\n",
       "      <td>0</td>\n",
       "      <td>8</td>\n",
       "    </tr>\n",
       "    <tr>\n",
       "      <th>8</th>\n",
       "      <td>08-03-20</td>\n",
       "      <td>39</td>\n",
       "      <td>0</td>\n",
       "      <td>9</td>\n",
       "    </tr>\n",
       "    <tr>\n",
       "      <th>9</th>\n",
       "      <td>09-03-20</td>\n",
       "      <td>44</td>\n",
       "      <td>0</td>\n",
       "      <td>10</td>\n",
       "    </tr>\n",
       "    <tr>\n",
       "      <th>10</th>\n",
       "      <td>10-03-20</td>\n",
       "      <td>50</td>\n",
       "      <td>0</td>\n",
       "      <td>11</td>\n",
       "    </tr>\n",
       "    <tr>\n",
       "      <th>11</th>\n",
       "      <td>11-03-20</td>\n",
       "      <td>60</td>\n",
       "      <td>0</td>\n",
       "      <td>12</td>\n",
       "    </tr>\n",
       "    <tr>\n",
       "      <th>12</th>\n",
       "      <td>12-03-20</td>\n",
       "      <td>74</td>\n",
       "      <td>1</td>\n",
       "      <td>13</td>\n",
       "    </tr>\n",
       "    <tr>\n",
       "      <th>13</th>\n",
       "      <td>13-03-20</td>\n",
       "      <td>81</td>\n",
       "      <td>2</td>\n",
       "      <td>14</td>\n",
       "    </tr>\n",
       "    <tr>\n",
       "      <th>14</th>\n",
       "      <td>14-03-20</td>\n",
       "      <td>84</td>\n",
       "      <td>2</td>\n",
       "      <td>15</td>\n",
       "    </tr>\n",
       "    <tr>\n",
       "      <th>15</th>\n",
       "      <td>15-03-20</td>\n",
       "      <td>110</td>\n",
       "      <td>2</td>\n",
       "      <td>16</td>\n",
       "    </tr>\n",
       "    <tr>\n",
       "      <th>16</th>\n",
       "      <td>16-03-20</td>\n",
       "      <td>114</td>\n",
       "      <td>2</td>\n",
       "      <td>17</td>\n",
       "    </tr>\n",
       "    <tr>\n",
       "      <th>17</th>\n",
       "      <td>17-03-20</td>\n",
       "      <td>137</td>\n",
       "      <td>3</td>\n",
       "      <td>18</td>\n",
       "    </tr>\n",
       "    <tr>\n",
       "      <th>18</th>\n",
       "      <td>18-03-20</td>\n",
       "      <td>151</td>\n",
       "      <td>3</td>\n",
       "      <td>19</td>\n",
       "    </tr>\n",
       "    <tr>\n",
       "      <th>19</th>\n",
       "      <td>19-03-20</td>\n",
       "      <td>173</td>\n",
       "      <td>4</td>\n",
       "      <td>20</td>\n",
       "    </tr>\n",
       "    <tr>\n",
       "      <th>20</th>\n",
       "      <td>20-03-20</td>\n",
       "      <td>223</td>\n",
       "      <td>4</td>\n",
       "      <td>21</td>\n",
       "    </tr>\n",
       "    <tr>\n",
       "      <th>21</th>\n",
       "      <td>21-03-20</td>\n",
       "      <td>315</td>\n",
       "      <td>4</td>\n",
       "      <td>22</td>\n",
       "    </tr>\n",
       "    <tr>\n",
       "      <th>22</th>\n",
       "      <td>22-03-20</td>\n",
       "      <td>360</td>\n",
       "      <td>7</td>\n",
       "      <td>23</td>\n",
       "    </tr>\n",
       "    <tr>\n",
       "      <th>23</th>\n",
       "      <td>23-03-20</td>\n",
       "      <td>468</td>\n",
       "      <td>9</td>\n",
       "      <td>24</td>\n",
       "    </tr>\n",
       "    <tr>\n",
       "      <th>24</th>\n",
       "      <td>24-03-20</td>\n",
       "      <td>519</td>\n",
       "      <td>10</td>\n",
       "      <td>25</td>\n",
       "    </tr>\n",
       "    <tr>\n",
       "      <th>25</th>\n",
       "      <td>25-03-20</td>\n",
       "      <td>606</td>\n",
       "      <td>10</td>\n",
       "      <td>26</td>\n",
       "    </tr>\n",
       "    <tr>\n",
       "      <th>26</th>\n",
       "      <td>26-03-20</td>\n",
       "      <td>694</td>\n",
       "      <td>16</td>\n",
       "      <td>27</td>\n",
       "    </tr>\n",
       "    <tr>\n",
       "      <th>27</th>\n",
       "      <td>27-03-20</td>\n",
       "      <td>834</td>\n",
       "      <td>19</td>\n",
       "      <td>28</td>\n",
       "    </tr>\n",
       "    <tr>\n",
       "      <th>28</th>\n",
       "      <td>28-03-20</td>\n",
       "      <td>918</td>\n",
       "      <td>19</td>\n",
       "      <td>29</td>\n",
       "    </tr>\n",
       "    <tr>\n",
       "      <th>29</th>\n",
       "      <td>29-03-20</td>\n",
       "      <td>1024</td>\n",
       "      <td>27</td>\n",
       "      <td>30</td>\n",
       "    </tr>\n",
       "    <tr>\n",
       "      <th>...</th>\n",
       "      <td>...</td>\n",
       "      <td>...</td>\n",
       "      <td>...</td>\n",
       "      <td>...</td>\n",
       "    </tr>\n",
       "    <tr>\n",
       "      <th>98</th>\n",
       "      <td>06-06-20</td>\n",
       "      <td>236657</td>\n",
       "      <td>6642</td>\n",
       "      <td>99</td>\n",
       "    </tr>\n",
       "    <tr>\n",
       "      <th>99</th>\n",
       "      <td>07-06-20</td>\n",
       "      <td>246628</td>\n",
       "      <td>6929</td>\n",
       "      <td>100</td>\n",
       "    </tr>\n",
       "    <tr>\n",
       "      <th>100</th>\n",
       "      <td>08-06-20</td>\n",
       "      <td>256611</td>\n",
       "      <td>7200</td>\n",
       "      <td>101</td>\n",
       "    </tr>\n",
       "    <tr>\n",
       "      <th>101</th>\n",
       "      <td>09-06-20</td>\n",
       "      <td>266598</td>\n",
       "      <td>7471</td>\n",
       "      <td>102</td>\n",
       "    </tr>\n",
       "    <tr>\n",
       "      <th>102</th>\n",
       "      <td>10-06-20</td>\n",
       "      <td>276583</td>\n",
       "      <td>7745</td>\n",
       "      <td>103</td>\n",
       "    </tr>\n",
       "    <tr>\n",
       "      <th>103</th>\n",
       "      <td>11-06-20</td>\n",
       "      <td>286579</td>\n",
       "      <td>8102</td>\n",
       "      <td>104</td>\n",
       "    </tr>\n",
       "    <tr>\n",
       "      <th>104</th>\n",
       "      <td>12-06-20</td>\n",
       "      <td>297535</td>\n",
       "      <td>8498</td>\n",
       "      <td>105</td>\n",
       "    </tr>\n",
       "    <tr>\n",
       "      <th>105</th>\n",
       "      <td>13-06-20</td>\n",
       "      <td>308993</td>\n",
       "      <td>8884</td>\n",
       "      <td>106</td>\n",
       "    </tr>\n",
       "    <tr>\n",
       "      <th>106</th>\n",
       "      <td>14-06-20</td>\n",
       "      <td>320922</td>\n",
       "      <td>9195</td>\n",
       "      <td>107</td>\n",
       "    </tr>\n",
       "    <tr>\n",
       "      <th>107</th>\n",
       "      <td>15-06-20</td>\n",
       "      <td>332424</td>\n",
       "      <td>9520</td>\n",
       "      <td>108</td>\n",
       "    </tr>\n",
       "    <tr>\n",
       "      <th>108</th>\n",
       "      <td>16-06-20</td>\n",
       "      <td>343091</td>\n",
       "      <td>9900</td>\n",
       "      <td>109</td>\n",
       "    </tr>\n",
       "    <tr>\n",
       "      <th>109</th>\n",
       "      <td>17-06-20</td>\n",
       "      <td>354065</td>\n",
       "      <td>11903</td>\n",
       "      <td>110</td>\n",
       "    </tr>\n",
       "    <tr>\n",
       "      <th>110</th>\n",
       "      <td>18-06-20</td>\n",
       "      <td>366946</td>\n",
       "      <td>12237</td>\n",
       "      <td>111</td>\n",
       "    </tr>\n",
       "    <tr>\n",
       "      <th>111</th>\n",
       "      <td>19-06-20</td>\n",
       "      <td>380532</td>\n",
       "      <td>12573</td>\n",
       "      <td>112</td>\n",
       "    </tr>\n",
       "    <tr>\n",
       "      <th>112</th>\n",
       "      <td>20-06-20</td>\n",
       "      <td>395048</td>\n",
       "      <td>12948</td>\n",
       "      <td>113</td>\n",
       "    </tr>\n",
       "    <tr>\n",
       "      <th>113</th>\n",
       "      <td>21-06-20</td>\n",
       "      <td>410461</td>\n",
       "      <td>13254</td>\n",
       "      <td>114</td>\n",
       "    </tr>\n",
       "    <tr>\n",
       "      <th>114</th>\n",
       "      <td>22-06-20</td>\n",
       "      <td>425282</td>\n",
       "      <td>13699</td>\n",
       "      <td>115</td>\n",
       "    </tr>\n",
       "    <tr>\n",
       "      <th>115</th>\n",
       "      <td>23-06-20</td>\n",
       "      <td>440215</td>\n",
       "      <td>14011</td>\n",
       "      <td>116</td>\n",
       "    </tr>\n",
       "    <tr>\n",
       "      <th>116</th>\n",
       "      <td>24-06-20</td>\n",
       "      <td>456183</td>\n",
       "      <td>14476</td>\n",
       "      <td>117</td>\n",
       "    </tr>\n",
       "    <tr>\n",
       "      <th>117</th>\n",
       "      <td>25-06-20</td>\n",
       "      <td>473105</td>\n",
       "      <td>14894</td>\n",
       "      <td>118</td>\n",
       "    </tr>\n",
       "    <tr>\n",
       "      <th>118</th>\n",
       "      <td>26-06-20</td>\n",
       "      <td>490401</td>\n",
       "      <td>15301</td>\n",
       "      <td>119</td>\n",
       "    </tr>\n",
       "    <tr>\n",
       "      <th>119</th>\n",
       "      <td>27-06-20</td>\n",
       "      <td>508953</td>\n",
       "      <td>15685</td>\n",
       "      <td>120</td>\n",
       "    </tr>\n",
       "    <tr>\n",
       "      <th>120</th>\n",
       "      <td>28-06-20</td>\n",
       "      <td>528859</td>\n",
       "      <td>16095</td>\n",
       "      <td>121</td>\n",
       "    </tr>\n",
       "    <tr>\n",
       "      <th>121</th>\n",
       "      <td>29-06-20</td>\n",
       "      <td>548318</td>\n",
       "      <td>16475</td>\n",
       "      <td>122</td>\n",
       "    </tr>\n",
       "    <tr>\n",
       "      <th>122</th>\n",
       "      <td>30-06-20</td>\n",
       "      <td>566840</td>\n",
       "      <td>16893</td>\n",
       "      <td>123</td>\n",
       "    </tr>\n",
       "    <tr>\n",
       "      <th>123</th>\n",
       "      <td>01-07-20</td>\n",
       "      <td>585493</td>\n",
       "      <td>17400</td>\n",
       "      <td>124</td>\n",
       "    </tr>\n",
       "    <tr>\n",
       "      <th>124</th>\n",
       "      <td>02-07-20</td>\n",
       "      <td>604641</td>\n",
       "      <td>17834</td>\n",
       "      <td>125</td>\n",
       "    </tr>\n",
       "    <tr>\n",
       "      <th>125</th>\n",
       "      <td>03-07-20</td>\n",
       "      <td>625544</td>\n",
       "      <td>18213</td>\n",
       "      <td>126</td>\n",
       "    </tr>\n",
       "    <tr>\n",
       "      <th>126</th>\n",
       "      <td>04-07-20</td>\n",
       "      <td>648315</td>\n",
       "      <td>18655</td>\n",
       "      <td>127</td>\n",
       "    </tr>\n",
       "    <tr>\n",
       "      <th>127</th>\n",
       "      <td>05-07-20</td>\n",
       "      <td>673165</td>\n",
       "      <td>19268</td>\n",
       "      <td>128</td>\n",
       "    </tr>\n",
       "  </tbody>\n",
       "</table>\n",
       "<p>128 rows × 4 columns</p>\n",
       "</div>"
      ],
      "text/plain": [
       "         Date  Total_cases  Total_deaths  Days_passed\n",
       "0    02-02-20            2             0            1\n",
       "1    03-02-20            3             0            2\n",
       "2    02-03-20            5             0            3\n",
       "3    03-03-20            6             0            4\n",
       "4    04-03-20           28             0            5\n",
       "5    05-03-20           30             0            6\n",
       "6    06-03-20           31             0            7\n",
       "7    07-03-20           34             0            8\n",
       "8    08-03-20           39             0            9\n",
       "9    09-03-20           44             0           10\n",
       "10   10-03-20           50             0           11\n",
       "11   11-03-20           60             0           12\n",
       "12   12-03-20           74             1           13\n",
       "13   13-03-20           81             2           14\n",
       "14   14-03-20           84             2           15\n",
       "15   15-03-20          110             2           16\n",
       "16   16-03-20          114             2           17\n",
       "17   17-03-20          137             3           18\n",
       "18   18-03-20          151             3           19\n",
       "19   19-03-20          173             4           20\n",
       "20   20-03-20          223             4           21\n",
       "21   21-03-20          315             4           22\n",
       "22   22-03-20          360             7           23\n",
       "23   23-03-20          468             9           24\n",
       "24   24-03-20          519            10           25\n",
       "25   25-03-20          606            10           26\n",
       "26   26-03-20          694            16           27\n",
       "27   27-03-20          834            19           28\n",
       "28   28-03-20          918            19           29\n",
       "29   29-03-20         1024            27           30\n",
       "..        ...          ...           ...          ...\n",
       "98   06-06-20       236657          6642           99\n",
       "99   07-06-20       246628          6929          100\n",
       "100  08-06-20       256611          7200          101\n",
       "101  09-06-20       266598          7471          102\n",
       "102  10-06-20       276583          7745          103\n",
       "103  11-06-20       286579          8102          104\n",
       "104  12-06-20       297535          8498          105\n",
       "105  13-06-20       308993          8884          106\n",
       "106  14-06-20       320922          9195          107\n",
       "107  15-06-20       332424          9520          108\n",
       "108  16-06-20       343091          9900          109\n",
       "109  17-06-20       354065         11903          110\n",
       "110  18-06-20       366946         12237          111\n",
       "111  19-06-20       380532         12573          112\n",
       "112  20-06-20       395048         12948          113\n",
       "113  21-06-20       410461         13254          114\n",
       "114  22-06-20       425282         13699          115\n",
       "115  23-06-20       440215         14011          116\n",
       "116  24-06-20       456183         14476          117\n",
       "117  25-06-20       473105         14894          118\n",
       "118  26-06-20       490401         15301          119\n",
       "119  27-06-20       508953         15685          120\n",
       "120  28-06-20       528859         16095          121\n",
       "121  29-06-20       548318         16475          122\n",
       "122  30-06-20       566840         16893          123\n",
       "123  01-07-20       585493         17400          124\n",
       "124  02-07-20       604641         17834          125\n",
       "125  03-07-20       625544         18213          126\n",
       "126  04-07-20       648315         18655          127\n",
       "127  05-07-20       673165         19268          128\n",
       "\n",
       "[128 rows x 4 columns]"
      ]
     },
     "execution_count": 588,
     "metadata": {},
     "output_type": "execute_result"
    }
   ],
   "source": [
    "data"
   ]
  },
  {
   "cell_type": "code",
   "execution_count": 547,
   "metadata": {},
   "outputs": [
    {
     "name": "stdout",
     "output_type": "stream",
     "text": [
      "0.8027159910707939\n"
     ]
    }
   ],
   "source": [
    "#splitting the data into train and test.\n",
    "\n",
    "X = np.array(data.Days_passed).reshape(-1, 1) \n",
    "y = np.array(data.Total_cases).reshape(-1, 1) \n",
    " \n",
    "from sklearn.model_selection import train_test_split     \n",
    "from sklearn.linear_model import LinearRegression\n",
    "\n",
    "\n",
    "X_train, X_test, y_train, y_test = train_test_split(X, y, test_size = 0.2) \n",
    "  \n",
    "#Applying Regression model\n",
    "regr = LinearRegression() \n",
    "  \n",
    "regr.fit(X_train, y_train) \n",
    "print(regr.score(X_test, y_test))"
   ]
  },
  {
   "cell_type": "code",
   "execution_count": 548,
   "metadata": {},
   "outputs": [
    {
     "data": {
      "image/png": "[encoded data removed]",
      "text/plain": [
       "<Figure size 432x288 with 1 Axes>"
      ]
     },
     "metadata": {
      "needs_background": "light"
     },
     "output_type": "display_data"
    }
   ],
   "source": [
    "y_pred = regr.predict(X_train) \n",
    "plt.scatter(X_train, y_train, color ='b') \n",
    "plt.plot(X_train, y_pred, color ='k') \n",
    "  \n",
    "plt.show() \n",
    "\n",
    "#We can see from the graph that our model is unerfitting and thus we have to make our model more complex"
   ]
  },
  {
   "cell_type": "code",
   "execution_count": 549,
   "metadata": {},
   "outputs": [
    {
     "name": "stdout",
     "output_type": "stream",
     "text": [
      "[[397632.82054185]]\n",
      "[[4127.05874316]]\n"
     ]
    }
   ],
   "source": [
    "#According to Regression Model\n",
    "\n",
    "#prdicting what would be total numbr of cases tommorrow\n",
    "print(regr.predict([[129]]))\n",
    "\n",
    "#Increase in Total no. of cases would be \n",
    "print(regr.predict([[129]]) - regr.predict([[128]]))"
   ]
  },
  {
   "cell_type": "code",
   "execution_count": 598,
   "metadata": {},
   "outputs": [
    {
     "data": {
      "text/plain": [
       "LinearRegression(copy_X=True, fit_intercept=True, n_jobs=None,\n",
       "         normalize=False)"
      ]
     },
     "execution_count": 598,
     "metadata": {},
     "output_type": "execute_result"
    }
   ],
   "source": [
    "#splitting the data into train and test.\n",
    "\n",
    "X = np.array(data.Days_passed).reshape(-1, 1) \n",
    "y = np.array(data.Total_cases).reshape(-1, 1) \n",
    " \n",
    "from sklearn.model_selection import train_test_split     \n",
    "from sklearn.linear_model import LinearRegression\n",
    "\n",
    "\n",
    "X_train, X_test, y_train, y_test = train_test_split(X, y, test_size = 0.3) \n",
    "\n",
    "#Applying Polynomial regression to our data set to increase the complexity of our model\n",
    "\n",
    "from sklearn.preprocessing import PolynomialFeatures\n",
    "poly_reg = PolynomialFeatures(degree = 3)  #degree = 3 implies max pow is 3\n",
    "X_poly = poly_reg.fit_transform(X_train)\n",
    "poly_reg.fit(X_poly,y_train)\n",
    "lin_reg_2 = LinearRegression()\n",
    "lin_reg_2.fit(X_poly,y_train)"
   ]
  },
  {
   "cell_type": "code",
   "execution_count": 599,
   "metadata": {},
   "outputs": [
    {
     "data": {
      "image/png": "[encoded data removed]",
      "text/plain": [
       "<Figure size 432x288 with 1 Axes>"
      ]
     },
     "metadata": {
      "needs_background": "light"
     },
     "output_type": "display_data"
    }
   ],
   "source": [
    "y_pred = lin_reg_2.predict(X_poly)\n",
    "plt.scatter(X_train, y_train, color ='b')\n",
    "plt.scatter(X_train, y_pred,color = 'k') \n",
    "  \n",
    "plt.show() "
   ]
  },
  {
   "cell_type": "code",
   "execution_count": 600,
   "metadata": {},
   "outputs": [
    {
     "name": "stdout",
     "output_type": "stream",
     "text": [
      "0.9995387178854928\n",
      "[[675062.46616758]]\n",
      "[[19840.60186796]]\n"
     ]
    }
   ],
   "source": [
    "#According to Polynomial Regression Model\n",
    "\n",
    "#Accuracy \n",
    "X_tpoly = poly_reg.fit_transform(X_test)\n",
    "print(lin_reg_2.score(X_tpoly,y_test))\n",
    "\n",
    "\n",
    "#prdicting what would be total numbr of cases today\n",
    "print(lin_reg_2.predict(poly_reg.fit_transform([[129]])))\n",
    "\n",
    "#Increase in Total no. of cases would be \n",
    "print(lin_reg_2.predict(poly_reg.fit_transform([[129]]))-lin_reg_2.predict(poly_reg.fit_transform([[128]])))"
   ]
  },
  {
   "cell_type": "code",
   "execution_count": 601,
   "metadata": {},
   "outputs": [
    {
     "name": "stderr",
     "output_type": "stream",
     "text": [
      "/home/sushanth/anaconda3/lib/python3.7/site-packages/sklearn/utils/validation.py:595: DataConversionWarning: Data with input dtype int64 was converted to float64 by StandardScaler.\n",
      "  warnings.warn(msg, DataConversionWarning)\n",
      "/home/sushanth/anaconda3/lib/python3.7/site-packages/sklearn/utils/validation.py:595: DataConversionWarning: Data with input dtype int64 was converted to float64 by StandardScaler.\n",
      "  warnings.warn(msg, DataConversionWarning)\n",
      "/home/sushanth/anaconda3/lib/python3.7/site-packages/sklearn/utils/validation.py:595: DataConversionWarning: Data with input dtype int64 was converted to float64 by StandardScaler.\n",
      "  warnings.warn(msg, DataConversionWarning)\n",
      "/home/sushanth/anaconda3/lib/python3.7/site-packages/sklearn/utils/validation.py:595: DataConversionWarning: Data with input dtype int64 was converted to float64 by StandardScaler.\n",
      "  warnings.warn(msg, DataConversionWarning)\n"
     ]
    }
   ],
   "source": [
    "#SVR\n",
    "\n",
    "# Changing the data into standard scalar format or bringing the data into a range\n",
    "from sklearn.preprocessing import StandardScaler,MinMaxScaler\n",
    "sc_X = StandardScaler()\n",
    "sv_x = sc_X.fit_transform(X_train)\n",
    "sc_Y = StandardScaler()\n",
    "sv_y = sc_Y.fit_transform(y_train)"
   ]
  },
  {
   "cell_type": "code",
   "execution_count": 602,
   "metadata": {},
   "outputs": [
    {
     "data": {
      "image/png": "[encoded data removed]",
      "text/plain": [
       "<Figure size 432x288 with 1 Axes>"
      ]
     },
     "metadata": {
      "needs_background": "light"
     },
     "output_type": "display_data"
    }
   ],
   "source": [
    "from sklearn.svm import SVR\n",
    "svr = SVR(kernel = 'rbf', C=1e3, gamma=0.1)  #Here we are using kernel as rbf which is good for our dataset\n",
    "svr.fit(sv_x,sv_y.ravel())\n",
    "\n",
    "\n",
    "y_pred = svr.predict(sv_x)\n",
    "plt.scatter(sv_x, sv_y, color ='b')\n",
    "plt.scatter(sv_x, y_pred,color = 'k') \n",
    "  \n",
    "plt.show() "
   ]
  },
  {
   "cell_type": "code",
   "execution_count": 603,
   "metadata": {},
   "outputs": [
    {
     "name": "stdout",
     "output_type": "stream",
     "text": [
      "0.9947872391409591\n",
      "0.9935678257441467\n"
     ]
    },
    {
     "name": "stderr",
     "output_type": "stream",
     "text": [
      "/home/sushanth/anaconda3/lib/python3.7/site-packages/sklearn/utils/validation.py:595: DataConversionWarning: Data with input dtype int64 was converted to float64 by StandardScaler.\n",
      "  warnings.warn(msg, DataConversionWarning)\n",
      "/home/sushanth/anaconda3/lib/python3.7/site-packages/sklearn/utils/validation.py:595: DataConversionWarning: Data with input dtype int64 was converted to float64 by StandardScaler.\n",
      "  warnings.warn(msg, DataConversionWarning)\n",
      "/home/sushanth/anaconda3/lib/python3.7/site-packages/sklearn/utils/validation.py:595: DataConversionWarning: Data with input dtype int64 was converted to float64 by StandardScaler.\n",
      "  warnings.warn(msg, DataConversionWarning)\n",
      "/home/sushanth/anaconda3/lib/python3.7/site-packages/sklearn/utils/validation.py:595: DataConversionWarning: Data with input dtype int64 was converted to float64 by StandardScaler.\n",
      "  warnings.warn(msg, DataConversionWarning)\n"
     ]
    }
   ],
   "source": [
    "sv_tx = sc_X.fit_transform(X_test)\n",
    "sv_ty = sc_Y.fit_transform(y_test)\n",
    "print(svr.score(sv_x, sv_y))\n",
    "print(svr.score(sv_tx,sv_ty))\n",
    "\n",
    "#printig the model accuracy on training and test data\n",
    "#We can see that svr is overfitting as it is giving 99% accuracy for training data"
   ]
  },
  {
   "cell_type": "code",
   "execution_count": 604,
   "metadata": {},
   "outputs": [
    {
     "name": "stdout",
     "output_type": "stream",
     "text": [
      "[692983.62826426]\n",
      "[17945.56120535]\n"
     ]
    }
   ],
   "source": [
    "#predicting the numer of cases today\n",
    "predict = sc_Y.inverse_transform(svr.predict(sc_X.transform([[129]])))\n",
    "print(predict)\n",
    "#New cases\n",
    "print(sc_Y.inverse_transform(svr.predict(sc_X.transform([[129]])))-sc_Y.inverse_transform(svr.predict(sc_X.transform([[128]]))))"
   ]
  },
  {
   "cell_type": "code",
   "execution_count": 605,
   "metadata": {},
   "outputs": [
    {
     "data": {
      "text/plain": [
       "DecisionTreeRegressor(criterion='mse', max_depth=None, max_features=None,\n",
       "           max_leaf_nodes=None, min_impurity_decrease=0.0,\n",
       "           min_impurity_split=None, min_samples_leaf=1,\n",
       "           min_samples_split=2, min_weight_fraction_leaf=0.0,\n",
       "           presort=False, random_state=0, splitter='best')"
      ]
     },
     "execution_count": 605,
     "metadata": {},
     "output_type": "execute_result"
    }
   ],
   "source": [
    "# DTR\n",
    "\n",
    "#Applying Decision Tree Regressor\n",
    "from sklearn.tree import DecisionTreeRegressor\n",
    "dtr = DecisionTreeRegressor(random_state=0)\n",
    "dtr.fit(X_train,y_train)"
   ]
  },
  {
   "cell_type": "code",
   "execution_count": 606,
   "metadata": {},
   "outputs": [
    {
     "data": {
      "image/png": "[encoded data removed]",
      "text/plain": [
       "<Figure size 432x288 with 1 Axes>"
      ]
     },
     "metadata": {
      "needs_background": "light"
     },
     "output_type": "display_data"
    }
   ],
   "source": [
    "y_pred = dtr.predict(X_train)\n",
    "plt.scatter(X_train, y_train, color ='b')\n",
    "plt.scatter(X_train, y_pred,color = 'k') \n",
    "  \n",
    "plt.show() "
   ]
  },
  {
   "cell_type": "code",
   "execution_count": 608,
   "metadata": {},
   "outputs": [
    {
     "name": "stdout",
     "output_type": "stream",
     "text": [
      "1.0\n",
      "0.9980117119430992\n"
     ]
    },
    {
     "data": {
      "text/plain": [
       "array([673165.])"
      ]
     },
     "execution_count": 608,
     "metadata": {},
     "output_type": "execute_result"
    }
   ],
   "source": [
    "print(dtr.score(X_train,y_train))\n",
    "print(dtr.score(X_test,y_test))\n",
    "dtr.predict([[129]])\n",
    "\n",
    "#DTr is overfitting as it giving 100% accuracy "
   ]
  },
  {
   "cell_type": "code",
   "execution_count": 609,
   "metadata": {},
   "outputs": [
    {
     "data": {
      "image/png": "[encoded data removed]",
      "text/plain": [
       "<Figure size 432x288 with 1 Axes>"
      ]
     },
     "metadata": {
      "needs_background": "light"
     },
     "output_type": "display_data"
    }
   ],
   "source": [
    "from sklearn.ensemble import RandomForestRegressor\n",
    "rfr = RandomForestRegressor(n_estimators = 10,random_state=0)\n",
    "rfr.fit(X_train,y_train.ravel())\n",
    "\n",
    "y_pred = rfr.predict(X_train)\n",
    "plt.scatter(X_train, y_train, color ='b')\n",
    "plt.scatter(X_train, y_pred,color = 'k') \n",
    "  \n",
    "plt.show() "
   ]
  },
  {
   "cell_type": "code",
   "execution_count": 610,
   "metadata": {},
   "outputs": [
    {
     "name": "stdout",
     "output_type": "stream",
     "text": [
      "0.9990988282663086\n",
      "0.9990334690006605\n"
     ]
    }
   ],
   "source": [
    "print(rfr.score(X_train,y_train))\n",
    "print(rfr.score(X_test,y_test))"
   ]
  },
  {
   "cell_type": "code",
   "execution_count": 611,
   "metadata": {},
   "outputs": [
    {
     "name": "stdout",
     "output_type": "stream",
     "text": [
      "linear Regression --  [[397632.82054185]]\n",
      "polynomial Regression --  [[675062.46616758]]\n",
      "SVR --  [692983.62826426]\n",
      "Decision Tree Regression --  [673165.]\n",
      "Random forest regression --  [633745.]\n"
     ]
    }
   ],
   "source": [
    "# No. of total cases \n",
    "print(\"linear Regression -- \",regr.predict([[129]]))\n",
    "print(\"polynomial Regression -- \",lin_reg_2.predict(poly_reg.fit_transform([[129]])))\n",
    "print(\"SVR -- \", predict)\n",
    "print(\"Decision Tree Regression -- \",dtr.predict([[129]]))\n",
    "print(\"Random forest regression -- \",rfr.predict([[129]]))"
   ]
  },
  {
   "cell_type": "code",
   "execution_count": 612,
   "metadata": {},
   "outputs": [],
   "source": [
    "#As Svm was giving max accuracy we used it to predict maximum number of cases\n",
    "a = []\n",
    "b = []\n",
    "x = 0\n",
    "y = 0\n",
    "predict = sc_Y.inverse_transform(svr.predict(sc_X.transform([[128]])))\n",
    "b.append(1)\n",
    "a.append(predict)\n",
    "for i in range(1,400):\n",
    "    predict = sc_Y.inverse_transform(svr.predict(sc_X.transform([[i+128]])))\n",
    "    b.append(i+1)\n",
    "    a.append(predict)\n",
    "    if(x < predict):\n",
    "        x = predict\n",
    "        y = i"
   ]
  },
  {
   "cell_type": "code",
   "execution_count": 613,
   "metadata": {},
   "outputs": [
    {
     "data": {
      "image/png": "[encoded data removed]",
      "text/plain": [
       "<Figure size 432x288 with 1 Axes>"
      ]
     },
     "metadata": {
      "needs_background": "light"
     },
     "output_type": "display_data"
    }
   ],
   "source": [
    "import numpy as np\n",
    "import matplotlib.pyplot as plt\n",
    "\n",
    "# Plot\n",
    "plt.scatter(b, a)\n",
    "plt.title('COVID DATA')\n",
    "plt.xlabel(\"DAYS PASSED\")\n",
    "plt.ylabel('CASES')\n",
    "plt.show()"
   ]
  },
  {
   "cell_type": "code",
   "execution_count": 614,
   "metadata": {},
   "outputs": [
    {
     "name": "stdout",
     "output_type": "stream",
     "text": [
      "Maximum cases [1893282.67350264] on day 92\n"
     ]
    }
   ],
   "source": [
    "print(\"Maximum cases\",x,\"on day\",y)"
   ]
  },
  {
   "cell_type": "code",
   "execution_count": 621,
   "metadata": {},
   "outputs": [],
   "source": [
    "#As polynomial regression was giving max accuracy we used it to predict maximum number of cases\n",
    "a = []\n",
    "b = []\n",
    "x = 0\n",
    "y = 0\n",
    "predict =lin_reg_2.predict(poly_reg.fit_transform([[129]]))\n",
    "b.append(1)\n",
    "a.append(predict)\n",
    "for i in range(1,400):\n",
    "    predict = lin_reg_2.predict(poly_reg.fit_transform([[129+i]]))\n",
    "    b.append(i+1)\n",
    "    a.append(predict)\n",
    "    if(x < predict):\n",
    "        x = predict\n",
    "        y = i"
   ]
  },
  {
   "cell_type": "code",
   "execution_count": 622,
   "metadata": {},
   "outputs": [
    {
     "data": {
      "image/png": "[encoded data removed]",
      "text/plain": [
       "<Figure size 432x288 with 1 Axes>"
      ]
     },
     "metadata": {
      "needs_background": "light"
     },
     "output_type": "display_data"
    }
   ],
   "source": [
    "import numpy as np\n",
    "import matplotlib.pyplot as plt\n",
    "\n",
    "# Plot\n",
    "plt.scatter(b, a)\n",
    "plt.title('COVID DATA')\n",
    "plt.xlabel(\"DAYS PASSED\")\n",
    "plt.ylabel('CASES')\n",
    "plt.show()"
   ]
  },
  {
   "cell_type": "code",
   "execution_count": null,
   "metadata": {},
   "outputs": [],
   "source": []
  }
 ],
 "metadata": {
  "kernelspec": {
   "display_name": "Python 3",
   "language": "python",
   "name": "python3"
  },
  "language_info": {
   "codemirror_mode": {
    "name": "ipython",
    "version": 3
   },
   "file_extension": ".py",
   "mimetype": "text/x-python",
   "name": "python",
   "nbconvert_exporter": "python",
   "pygments_lexer": "ipython3",
   "version": "3.7.3"
  }
 },
 "nbformat": 4,
 "nbformat_minor": 2
}
